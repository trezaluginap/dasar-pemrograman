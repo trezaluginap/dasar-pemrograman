{
 "cells": [
  {
   "cell_type": "markdown",
   "id": "f952cfff",
   "metadata": {},
   "source": [
    "<hr>\n",
    "<h1>Praktikum variable dan Tipe data</h1>"
   ]
  },
  {
   "cell_type": "markdown",
   "id": "6651069f",
   "metadata": {},
   "source": [
    "<hr>\n",
    "<h3>Soal 1</h3>"
   ]
  },
  {
   "cell_type": "markdown",
   "id": "2b88781b",
   "metadata": {},
   "source": [
    "Kiki belanja ke alf$$a M𝑎r$t membeli 3 hepitos, 2 silperkuin, telor 2kg, beras 5kg, isi ulang akua galon seharga Rp 13.000. Harga hepitos yaitu Rp 15.000, telor Rp 13.000/kg, silperkuin Rp 21.000 beras kemasan 2.5kg seharga Rp 20.000. Toko tersebut memberikan discount 5%, ketika customer membeli makanan lebih dari 3 jenis. Berapakah total bayar belanjaan dari Kiki?"
   ]
  },
  {
   "cell_type": "markdown",
   "id": "7ea03b39",
   "metadata": {},
   "source": [
    "<hr>\n",
    "<h2>Analyze Here</h2>"
   ]
  },
  {
   "cell_type": "code",
   "execution_count": 1,
   "id": "aa185100",
   "metadata": {},
   "outputs": [
    {
     "name": "stdout",
     "output_type": "stream",
     "text": [
      "Totalbelanja =  166000\n",
      "Totaldiskon =  8300.0\n",
      "Total_setelah_diskon =  157700.0\n"
     ]
    }
   ],
   "source": [
    "#Code here\n",
    "a = hepitos = 15000 * 3\n",
    "b = silperkuin = 21000 * 2 \n",
    "c = telor = 13000 * 2\n",
    "d = beras = 20000 * 2\n",
    "e = isiUlangGalon = 13000 \n",
    "\n",
    "Totalharga = a + b + c + d + e\n",
    "diskon = Totalharga * 0.05\n",
    "Total_setelah_diskon = Totalharga - diskon \n",
    "print(\"Totalbelanja = \", Totalharga)\n",
    "print(\"Totaldiskon = \", diskon)\n",
    "print(\"Total_setelah_diskon = \", Total_setelah_diskon)"
   ]
  },
  {
   "cell_type": "markdown",
   "id": "3bf3c548",
   "metadata": {},
   "source": [
    "<hr>\n",
    "<h2>Soal 2</h2>\n"
   ]
  },
  {
   "cell_type": "markdown",
   "id": "dbf82f6f",
   "metadata": {},
   "source": [
    "Roni menabung pada bulan agustus yaitu setiap tanggal ganjil sejumlah Rp 50.000, setiap tanggal genap sejumlah RP 10.000 dan setiap tanggal kelipatan 5 sejumlah Rp 5.000, Berapakah total tabungan Roni diakhir bulan?"
   ]
  },
  {
   "cell_type": "markdown",
   "id": "7f5daef9",
   "metadata": {},
   "source": [
    "<hr>\n",
    "<h2>Aanlyze Here</h2>"
   ]
  },
  {
   "cell_type": "code",
   "execution_count": 2,
   "id": "1b4687d1",
   "metadata": {},
   "outputs": [
    {
     "name": "stdout",
     "output_type": "stream",
     "text": [
      "total_tabung:  800000\n"
     ]
    }
   ],
   "source": [
    "#Code here\n",
    "total_hari = 31\n",
    "total_tabung = 0 \n",
    "\n",
    "tanggal = 1\n",
    "while(tanggal <= total_hari): \n",
    "    \n",
    "    if(tanggal % 5 == 0):\n",
    "     total_tabung += 5000\n",
    "    elif(tanggal % 2 != 0):\n",
    "     total_tabung += 50000\n",
    "    else:\n",
    "     total_tabung += 10000\n",
    "        \n",
    "    tanggal += 1\n",
    "    \n",
    "print(\"total_tabung: \",total_tabung)"
   ]
  },
  {
   "cell_type": "markdown",
   "id": "3deaa128",
   "metadata": {},
   "source": [
    "<hr>\n",
    "<h2>Soal 3</h2>"
   ]
  },
  {
   "cell_type": "markdown",
   "id": "d15a6042",
   "metadata": {},
   "source": [
    "<u1>Saat hari raya, Deni ingin menukarkan uang sejumlah Rp 5.000.000 ke pecahan 20rb, 10rb, 5rb, 2rb. berapa jumlahnya yang didapatkan Deni jika 20rb maksimal 100, 10rb maksimal 50.Jika :\n",
    "    <li> 1.3(a)Semua pecahan harus ada</li>\n",
    "    <li> 2.3(b)Hanya pecahan 20rb, 10rb dan 5rb</li>\n",
    "    <li> 3.3(c)Hanya pecahan 20rb, 10rb dan 2rb</li>\n",
    "</u1>"
   ]
  },
  {
   "cell_type": "code",
   "execution_count": 3,
   "id": "a9c2f079",
   "metadata": {},
   "outputs": [
    {
     "name": "stdout",
     "output_type": "stream",
     "text": [
      "semua pecahan ada\n",
      "100 lembar 20 rbu =  2000000\n",
      "50 lembar 10 rbu =  500000\n",
      "400 lembar 5 rbu =  2000000\n",
      "250 lembar 2 rbu =  500000\n",
      "totalnya adalah = 5000000\n",
      "hanya pecahan 20rbu, 10rbu dan 5rbu\n",
      "100 lembar 20 rbu = 2000000\n",
      "50 lembar 10 rbu = 500000\n",
      "500 lembar 5 rbu = 2500000\n",
      "totalnya adalah = 5000000\n",
      "hanya pecahan 20rbu, 10rbu dan 2rbu\n",
      "100 lembar 20 rbu = 2000000\n",
      "50 lembar 10 rbu = 500000\n",
      "1250 lembar 2 rbu = 2500000\n",
      "totalnya adalah = 5000000\n"
     ]
    }
   ],
   "source": [
    "#Code here\n",
    "rupiah_20 = 20_000 * 100\n",
    "rupiah_10 = 10_000 * 50\n",
    "rupiah_5 = 5000 * 400\n",
    "rupiah_2 = 2000 * 250\n",
    "jumlah_3_a = rupiah_20 + rupiah_10 + rupiah_5 + rupiah_2\n",
    "\n",
    "print(\"semua pecahan ada\")\n",
    "print(\"100 lembar 20 rbu = \",rupiah_20)\n",
    "print(\"50 lembar 10 rbu = \",rupiah_10)\n",
    "print(\"400 lembar 5 rbu = \",rupiah_5)\n",
    "print(\"250 lembar 2 rbu = \",rupiah_2)\n",
    "print(\"totalnya adalah =\",jumlah_3_a)\n",
    "\n",
    "rupiah_5_2 = 5000 * 500\n",
    "jumlah_3_b = rupiah_20 + rupiah_10 + rupiah_5_2\n",
    "print(\"hanya pecahan 20rbu, 10rbu dan 5rbu\")\n",
    "print(\"100 lembar 20 rbu =\",rupiah_20)\n",
    "print(\"50 lembar 10 rbu =\",rupiah_10)\n",
    "print(\"500 lembar 5 rbu =\",rupiah_5_2)\n",
    "print(\"totalnya adalah =\",jumlah_3_b)\n",
    "\n",
    "rupiah_2_2 = 2000 * 1250\n",
    "jumlah_3_c = rupiah_20 + rupiah_10 + rupiah_2_2\n",
    "print(\"hanya pecahan 20rbu, 10rbu dan 2rbu\")\n",
    "print(\"100 lembar 20 rbu =\",rupiah_20)\n",
    "print(\"50 lembar 10 rbu =\",rupiah_10)\n",
    "print(\"1250 lembar 2 rbu =\",rupiah_2_2)\n",
    "print(\"totalnya adalah =\",jumlah_3_c)"
   ]
  },
  {
   "cell_type": "markdown",
   "id": "6e81a38b",
   "metadata": {},
   "source": [
    "<hr>\n",
    "<h2>Soal 4</h2>"
   ]
  },
  {
   "cell_type": "markdown",
   "id": "044369ab",
   "metadata": {},
   "source": [
    "Berapakah hasil dari (10/23-6+4-(20//3%2)) ? Lakukan analisa perhitungan dari hasil tersebut! Berdasarkan hasil tersebut urutkan operator yang dikerjakan!"
   ]
  },
  {
   "cell_type": "markdown",
   "id": "59be9e71",
   "metadata": {},
   "source": [
    "<hr>\n",
    "<h2>Analyze Here</h2>"
   ]
  },
  {
   "cell_type": "code",
   "execution_count": 4,
   "id": "f0a7de1d",
   "metadata": {},
   "outputs": [
    {
     "name": "stdout",
     "output_type": "stream",
     "text": [
      "hasil dari (10/23-6+4-(20//3%2) = -1.5652173913043477\n",
      "hasil analisa\n",
      "1. terdapat operator bagi dan kurang = 10/23-6 = -5.565217391304348\n",
      "2. terdapat operator pembaian dibulatkan dan sisa bagi = 4 - (20 // 3 % 2) = 4\n",
      "hasil setelah ditambahkan adalah = -1.5652173913043477\n"
     ]
    }
   ],
   "source": [
    "#Code here\n",
    "hasil = (10/23-6+4-(20//3%2))\n",
    "print(\"hasil dari (10/23-6+4-(20//3%2) =\",hasil)\n",
    "print(\"hasil analisa\")\n",
    "\n",
    "\n",
    "operator_bagi_kurang = 10/23-6 \n",
    "operator_bagi_sisabagi = 4 - (20 // 3 % 2)\n",
    "print(\"1. terdapat operator bagi dan kurang = 10/23-6 =\",operator_bagi_kurang)\n",
    "print(\"2. terdapat operator pembaian dibulatkan dan sisa bagi = 4 - (20 // 3 % 2) =\",operator_bagi_sisabagi)\n",
    "print(\"hasil setelah ditambahkan adalah =\",operator_bagi_kurang + operator_bagi_sisabagi)"
   ]
  },
  {
   "cell_type": "markdown",
   "id": "775c693f",
   "metadata": {},
   "source": [
    "<hr>\n",
    "<h2>Soal 5</h2>"
   ]
  },
  {
   "cell_type": "markdown",
   "id": "b033f49a",
   "metadata": {},
   "source": [
    "Jika terdapat string yaitu \"UFLOPYXTKJACSWRBGQZVDMEHIN\", maka susunlah nama kalian masing-masing dari data tersebut, berdasarkan index dari masing-masing huruf yang ada pada string tersebut!"
   ]
  },
  {
   "cell_type": "markdown",
   "id": "65f0396e",
   "metadata": {},
   "source": [
    "<hr>\n",
    "<h2>Analyze Here</h2>"
   ]
  },
  {
   "cell_type": "code",
   "execution_count": 29,
   "id": "e7a53d3a",
   "metadata": {},
   "outputs": [
    {
     "name": "stdout",
     "output_type": "stream",
     "text": [
      "TREZALUGINAPAMUNGKAS\n"
     ]
    }
   ],
   "source": [
    "huruf = \"UFLOPYXTKJACSWRBGQZVDMEHIN\"\n",
    "\n",
    "print(huruf[7]+huruf[14]+huruf[22]+huruf[18]+huruf[10]+huruf[2]+huruf[0]+huruf[16]+huruf[24]+huruf[25]+huruf[10]+huruf[4]+huruf[10]+huruf[21]+huruf[0]+huruf[25]+huruf[16]+huruf[8]+huruf[10]+huruf[12])"
   ]
  },
  {
   "cell_type": "code",
   "execution_count": 30,
   "id": "6f088ee2",
   "metadata": {},
   "outputs": [
    {
     "name": "stdout",
     "output_type": "stream",
     "text": [
      "tugas coding ipynb treza lugina pamungkas selesai\n",
      "tugas dasar pemrograman sesi 4\n"
     ]
    }
   ],
   "source": [
    "print(\"tugas coding ipynb treza lugina pamungkas selesai\")\n",
    "print(\"tugas dasar pemrograman sesi 4\")"
   ]
  }
 ],
 "metadata": {
  "kernelspec": {
   "display_name": "Python 3 (ipykernel)",
   "language": "python",
   "name": "python3"
  },
  "language_info": {
   "codemirror_mode": {
    "name": "ipython",
    "version": 3
   },
   "file_extension": ".py",
   "mimetype": "text/x-python",
   "name": "python",
   "nbconvert_exporter": "python",
   "pygments_lexer": "ipython3",
   "version": "3.9.12"
  }
 },
 "nbformat": 4,
 "nbformat_minor": 5
}
