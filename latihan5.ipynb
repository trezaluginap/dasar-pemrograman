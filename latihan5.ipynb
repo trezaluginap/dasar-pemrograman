{
 "cells": [
  {
   "cell_type": "code",
   "execution_count": 2,
   "id": "a3e1de9d",
   "metadata": {},
   "outputs": [
    {
     "name": "stdout",
     "output_type": "stream",
     "text": [
      "enter your name: Treza Lugina Pamungkas\n",
      "enter your kelas: TI22F\n",
      "enter your major: informatics Engineering\n",
      "enter your age: 18 years old\n",
      "enter your hobbies: play football and drawing\n",
      "Hello my name is, Treza Lugina Pamungkas, i`m from TI22F informatics Engineering, im 18 years old, my hobbies are play football and drawing, nice to meet you\n"
     ]
    }
   ],
   "source": [
    "name = input(\"enter your name: \")\n",
    "kelas = input(\"enter your kelas: \")\n",
    "major = input(\"enter your major: \")\n",
    "age = input(\"enter your age: \")\n",
    "hobby =input(\"enter your hobbies: \")\n",
    "print(\"Hello my name is, {}, i`m from {} {}, im {}, my hobbies are {}, nice to meet you\".format(name,kelas,major,age,hobby))"
   ]
  },
  {
   "cell_type": "code",
   "execution_count": 85,
   "id": "bde6cccb",
   "metadata": {},
   "outputs": [
    {
     "name": "stdout",
     "output_type": "stream",
     "text": [
      "putra nusa\n"
     ]
    }
   ],
   "source": [
    "kalimat = \"UNIVERSITAS NUSA PUTRA SUKABUMI\"\n",
    "\n",
    "print(kalimat.lower()[17:22]+kalimat.lower()[11:16])"
   ]
  },
  {
   "cell_type": "code",
   "execution_count": 138,
   "id": "c7dd5b41",
   "metadata": {},
   "outputs": [
    {
     "name": "stdout",
     "output_type": "stream",
     "text": [
      "NIVERSITAS NSA PTRA SKABMI\n"
     ]
    }
   ],
   "source": [
    "kalimat = \"UNIVERSITAS NUSA PUTRA SUKABUMI\"\n",
    "\n",
    "print(kalimat.replace('U',\"\")[0:10]+kalimat.replace('U','')[10:15]+kalimat.replace('U','')[15:20]+kalimat.replace('U','')[20:28])"
   ]
  },
  {
   "cell_type": "code",
   "execution_count": 120,
   "id": "4e31758b",
   "metadata": {},
   "outputs": [
    {
     "name": "stdout",
     "output_type": "stream",
     "text": [
      " SUKABUMI PUTRA NUSA UNIVERSITAS\n"
     ]
    }
   ],
   "source": [
    "kalimat = \"UNIVERSITAS NUSA PUTRA SUKABUMI\"\n",
    "\n",
    "print(kalimat[-9:]+kalimat[-15:-8]+kalimat[-19:-14]+kalimat[-31:-20])"
   ]
  },
  {
   "cell_type": "code",
   "execution_count": 90,
   "id": "e3b2b491",
   "metadata": {},
   "outputs": [
    {
     "name": "stdout",
     "output_type": "stream",
     "text": [
      "UNSP\n"
     ]
    }
   ],
   "source": [
    "kalimat = \"UNIVERSITAS NUSA PUTRA SUKABUMI\"\n",
    "\n",
    "print(kalimat[0]+kalimat[12]+kalimat[14]+kalimat[17])"
   ]
  },
  {
   "cell_type": "code",
   "execution_count": 8,
   "id": "17db7427",
   "metadata": {},
   "outputs": [
    {
     "name": "stdout",
     "output_type": "stream",
     "text": [
      "TAS SAPU BUMI\n"
     ]
    }
   ],
   "source": [
    "kalimat = \"UNIVERSITAS NUSA PUTRA SUKABUMI\"\n",
    "\n",
    "print(kalimat[8:11]+' '+kalimat[14:16]+kalimat[17:19]+' '+kalimat[27:31].upper())"
   ]
  },
  {
   "cell_type": "code",
   "execution_count": null,
   "id": "860020bd",
   "metadata": {},
   "outputs": [],
   "source": []
  }
 ],
 "metadata": {
  "kernelspec": {
   "display_name": "Python 3 (ipykernel)",
   "language": "python",
   "name": "python3"
  },
  "language_info": {
   "codemirror_mode": {
    "name": "ipython",
    "version": 3
   },
   "file_extension": ".py",
   "mimetype": "text/x-python",
   "name": "python",
   "nbconvert_exporter": "python",
   "pygments_lexer": "ipython3",
   "version": "3.9.12"
  }
 },
 "nbformat": 4,
 "nbformat_minor": 5
}
